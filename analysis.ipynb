{
 "cells": [
  {
   "cell_type": "code",
   "execution_count": 1,
   "metadata": {},
   "outputs": [],
   "source": [
    "# import the libraries\n",
    "from sklearn.model_selection import train_test_split\n",
    "from sklearn.linear_model import LogisticRegression\n",
    "from sklearn.metrics import accuracy_score\n",
    "from sklearn.naive_bayes import MultinomialNB\n",
    "from sklearn.svm import SVC\n",
    "from sklearn.feature_extraction.text import TfidfVectorizer\n",
    "import pandas as pd"
   ]
  },
  {
   "cell_type": "code",
   "execution_count": 2,
   "metadata": {},
   "outputs": [],
   "source": [
    "# Load your dataset and preprocess 'Label' as you mentioned before\n",
    "df = pd.read_csv('data.csv')\n",
    "df['Label'] = df['Label'].map({\"FAKE\": 0, \"REAL\": 1})\n",
    "df = df.drop('ID', axis=1)"
   ]
  },
  {
   "cell_type": "code",
   "execution_count": 3,
   "metadata": {},
   "outputs": [],
   "source": [
    "# Assuming your dataset has 'Text' and 'Label' columns\n",
    "X = df['Text'].values\n",
    "y = df['Label'].values"
   ]
  },
  {
   "cell_type": "code",
   "execution_count": 4,
   "metadata": {},
   "outputs": [],
   "source": [
    "# Split the dataset into training and testing sets\n",
    "X_train, X_test, y_train, y_test = train_test_split(X, y, test_size=0.2, random_state=42)"
   ]
  },
  {
   "cell_type": "code",
   "execution_count": 5,
   "metadata": {},
   "outputs": [],
   "source": [
    "# Vectorize the text data (you can use TF-IDF or other methods)\n",
    "vectorizer = TfidfVectorizer()\n",
    "X_train_tfidf = vectorizer.fit_transform(X_train)\n",
    "X_test_tfidf = vectorizer.transform(X_test)"
   ]
  },
  {
   "cell_type": "code",
   "execution_count": 6,
   "metadata": {},
   "outputs": [
    {
     "name": "stdout",
     "output_type": "stream",
     "text": [
      "Accuracy: 80.20%\n",
      "Accuracy: 80.20%\n",
      "Accuracy: 80.20%\n",
      "Accuracy: 80.20%\n",
      "Accuracy: 80.20%\n",
      "Accuracy: 80.20%\n",
      "Accuracy: 80.20%\n",
      "Accuracy: 80.20%\n",
      "Accuracy: 80.20%\n",
      "Accuracy: 80.20%\n",
      "Accuracy: 80.20%\n",
      "Accuracy: 80.20%\n",
      "Accuracy: 80.20%\n",
      "Accuracy: 80.20%\n",
      "Accuracy: 80.20%\n",
      "Accuracy: 80.20%\n",
      "Accuracy: 80.20%\n",
      "Accuracy: 80.20%\n",
      "Accuracy: 80.20%\n",
      "Accuracy: 80.20%\n",
      "Accuracy: 80.20%\n",
      "Accuracy: 80.20%\n",
      "Accuracy: 80.20%\n",
      "Accuracy: 80.20%\n",
      "Accuracy: 80.20%\n",
      "Accuracy: 80.20%\n",
      "Accuracy: 80.20%\n",
      "Accuracy: 80.20%\n",
      "Accuracy: 80.20%\n",
      "Accuracy: 80.20%\n",
      "Accuracy: 80.20%\n",
      "Accuracy: 80.20%\n",
      "Accuracy: 80.20%\n",
      "Accuracy: 80.20%\n",
      "Accuracy: 80.20%\n",
      "Accuracy: 80.20%\n",
      "Accuracy: 80.20%\n",
      "Accuracy: 80.20%\n",
      "Accuracy: 80.20%\n",
      "Accuracy: 80.20%\n",
      "Accuracy: 80.20%\n",
      "Accuracy: 80.20%\n",
      "Accuracy: 80.20%\n",
      "Accuracy: 80.20%\n",
      "Accuracy: 80.20%\n",
      "Accuracy: 80.20%\n",
      "Accuracy: 80.20%\n",
      "Accuracy: 80.20%\n",
      "Accuracy: 80.20%\n",
      "Accuracy: 80.20%\n",
      "Accuracy: 80.20%\n",
      "Accuracy: 80.20%\n",
      "Accuracy: 80.20%\n",
      "Accuracy: 80.20%\n",
      "Accuracy: 80.20%\n",
      "Accuracy: 80.20%\n",
      "Accuracy: 80.20%\n",
      "Accuracy: 80.20%\n",
      "Accuracy: 80.20%\n",
      "Accuracy: 80.20%\n",
      "Accuracy: 80.20%\n",
      "Accuracy: 80.20%\n",
      "Accuracy: 80.20%\n",
      "Accuracy: 80.20%\n",
      "Accuracy: 80.20%\n",
      "Accuracy: 80.20%\n",
      "Accuracy: 80.20%\n",
      "Accuracy: 80.20%\n",
      "Accuracy: 80.20%\n",
      "Accuracy: 80.20%\n",
      "Accuracy: 80.20%\n",
      "Accuracy: 80.20%\n",
      "Accuracy: 80.20%\n",
      "Accuracy: 80.20%\n",
      "Accuracy: 80.20%\n",
      "Accuracy: 80.20%\n",
      "Accuracy: 80.20%\n",
      "Accuracy: 80.20%\n",
      "Accuracy: 80.20%\n",
      "Accuracy: 80.20%\n",
      "Accuracy: 80.20%\n",
      "Accuracy: 80.20%\n",
      "Accuracy: 80.20%\n",
      "Accuracy: 80.20%\n",
      "Accuracy: 80.20%\n",
      "Accuracy: 80.20%\n",
      "Accuracy: 80.20%\n",
      "Accuracy: 80.20%\n",
      "Accuracy: 80.20%\n",
      "Accuracy: 80.20%\n",
      "Accuracy: 80.20%\n",
      "Accuracy: 80.20%\n",
      "Accuracy: 80.20%\n",
      "Accuracy: 80.20%\n",
      "Accuracy: 80.20%\n",
      "Accuracy: 80.20%\n",
      "Accuracy: 80.20%\n",
      "Accuracy: 80.20%\n",
      "Accuracy: 80.20%\n",
      "Accuracy: 80.20%\n"
     ]
    }
   ],
   "source": [
    "for i in range(100):\n",
    "    nb_classifier = MultinomialNB()\n",
    "    nb_classifier.fit(X_train_tfidf, y_train)\n",
    "\n",
    "    # Make predictions on the test set\n",
    "    y_pred = nb_classifier.predict(X_test_tfidf)\n",
    "\n",
    "    # Evaluate the model\n",
    "    accuracy = accuracy_score(y_test, y_pred)\n",
    "    print(f\"Accuracy: {accuracy * 100:.2f}%\")"
   ]
  }
 ],
 "metadata": {
  "kernelspec": {
   "display_name": "Python 3",
   "language": "python",
   "name": "python3"
  },
  "language_info": {
   "codemirror_mode": {
    "name": "ipython",
    "version": 3
   },
   "file_extension": ".py",
   "mimetype": "text/x-python",
   "name": "python",
   "nbconvert_exporter": "python",
   "pygments_lexer": "ipython3",
   "version": "3.11.3"
  }
 },
 "nbformat": 4,
 "nbformat_minor": 2
}
